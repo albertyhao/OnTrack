{
 "cells": [
  {
   "cell_type": "code",
   "execution_count": 1,
   "metadata": {},
   "outputs": [],
   "source": [
    "# Import Modules"
   ]
  },
  {
   "cell_type": "code",
   "execution_count": 24,
   "metadata": {},
   "outputs": [],
   "source": [
    "from IPython.core.display import display, HTML\n",
    "from newspaper import Article\n",
    "import pandas as pd\n",
    "import nltk\n",
    "import nltk.data\n",
    "import re\n",
    "\n",
    "from nltk.corpus import stopwords\n",
    "from nltk.stem import PorterStemmer\n",
    "from sklearn.cluster import KMeans\n",
    "from sklearn.feature_extraction.text import CountVectorizer\n",
    "from sklearn.feature_extraction.text import TfidfVectorizer\n",
    "from newspaper import Article\n",
    "tfidf_counter = TfidfVectorizer(analyzer=\"word\", stop_words=stopwords.words(\"english\"))"
   ]
  },
  {
   "cell_type": "code",
   "execution_count": 2,
   "metadata": {},
   "outputs": [],
   "source": [
    "# Import Topics per Subject"
   ]
  },
  {
   "cell_type": "code",
   "execution_count": 25,
   "metadata": {},
   "outputs": [],
   "source": [
    "from newspaper import Article\n",
    "articles = {\n",
    "    'biology': [\"https://www.khanacademy.org/science/biology\",\n",
    "           \"https://en.wikipedia.org/wiki/Biology\",\n",
    "           \"https://en.wikipedia.org/wiki/Evolution\",\n",
    "           \"https://en.wikipedia.org/wiki/Organism\",\n",
    "           \"https://en.wikipedia.org/wiki/History_of_biology\",\n",
    "           \"https://en.wikipedia.org/wiki/Cell_theory\",\n",
    "           \"https://en.wikipedia.org/wiki/Genetics\",\n",
    "           \"https://www.livescience.com/44549-what-is-biology.html\",\n",
    "           \"https://www.cliffsnotes.com/study-guides/biology/biology/the-science-of-biology/introduction-to-biology\",\n",
    "           \"https://quizlet.com/9815027/college-intro-to-biology-flash-cards/\"],\n",
    "    'literature': [\n",
    "        \"https://www.internationalstudent.com/study-literature/what-is-english-literature/\",\n",
    "        \"https://en.wikipedia.org/wiki/English_literature\",\n",
    "        \"https://en.wikipedia.org/wiki/Old_English_literature\",\n",
    "        \"https://en.wikipedia.org/wiki/Middle_English_literature\",\n",
    "        \"https://en.wikipedia.org/wiki/Elizabethan_literature\",\n",
    "        \"https://mc.libguides.com/eng/literaryperiods\",\n",
    "        \"https://en.wikipedia.org/wiki/Category:Literary_concepts\",\n",
    "        \"https://en.wikipedia.org/wiki/Literature\",\n",
    "        \"https://quizlet.com/5656059/literature-concepts-prose-flash-cards/\",\n",
    "        \"https://en.wikipedia.org/wiki/Literary_fiction\"],\n",
    "    'physics': [\n",
    "        \"https://en.wikipedia.org/wiki/Physics\",\n",
    "        \"https://www.britannica.com/science/physics-science\",\n",
    "        \"https://en.wikipedia.org/wiki/Kinematics\",\n",
    "        \"https://courses.lumenlearning.com/boundless-physics/chapter/basics-of-kinematics/\",\n",
    "        \"https://www.physicsclassroom.com/class/1DKin/Lesson-1/Introduction\",\n",
    "        \"https://www.physicsclassroom.com/class/newtlaws/Lesson-2/Drawing-Free-Body-Diagrams\",\n",
    "        \"https://www.physicsclassroom.com/class/circles/Lesson-1/Speed-and-Velocity\",\n",
    "        \"https://www.physicsclassroom.com/class/circles/Lesson-3/Newton-s-Law-of-Universal-Gravitation\",\n",
    "        \"https://www.physicsclassroom.com/class/circuits/Lesson-1/Electric-Potential-Difference\",\n",
    "        \"https://www.physicsclassroom.com/class/refln/Lesson-2/Image-Characteristics\",\n",
    "    ],\n",
    "    'math': [\n",
    "        \"https://en.wikipedia.org/wiki/Calculus\",\n",
    "        \"https://en.wikipedia.org/wiki/Algebra\",\n",
    "        \"https://en.wikipedia.org/wiki/Geometry\",\n",
    "        \"http://tutorial.math.lamar.edu/Classes/CalcI/CalcI.aspx\",\n",
    "        \"https://www.mathsisfun.com/algebra/equation-formula.html\",\n",
    "        \"https://www.mathsisfun.com/algebra/reciprocal.html\",\n",
    "        \"https://www.mathsisfun.com/fractions-menu.html\",\n",
    "        \"https://www.mathsisfun.com/associative-commutative-distributive.html\",\n",
    "        \"https://www.mathsisfun.com/algebra/cross-multiply.html\",\n",
    "        \"https://www.mathsisfun.com/geometry/index.html\",\n",
    "    ],\n",
    "    'economics': [\n",
    "        \"https://en.wikipedia.org/wiki/Economics\",\n",
    "        \"https://www.bls.gov/\",\n",
    "        \"https://www.federalreserve.gov/\",\n",
    "        \"https://www.wsj.com/news/economy\",\n",
    "        \"https://www.marketwatch.com/economy-politics?mod=top_nav\",\n",
    "        \"https://www.economist.com/economics-a-to-z\",\n",
    "        \"https://en.wikipedia.org/wiki/Glossary_of_economics\",\n",
    "        \"https://en.wikipedia.org/wiki/Supply_and_demand\",\n",
    "        \"https://en.wikipedia.org/wiki/Laffer_curve\",\n",
    "        \"https://en.wikipedia.org/wiki/Supply-side_economics\",\n",
    "    ]\n",
    "}\n",
    "\n",
    "results = []\n",
    "for subject in articles.keys():\n",
    "    for url in articles[subject]:\n",
    "        article = Article(url)\n",
    "        article.download()\n",
    "        article.parse()\n",
    "        results.append({'text': article.text.replace('\\n','.'), 'subject': subject})"
   ]
  },
  {
   "cell_type": "code",
   "execution_count": 14,
   "metadata": {},
   "outputs": [],
   "source": [
    "# Create TF-IDF Vocab"
   ]
  },
  {
   "cell_type": "code",
   "execution_count": 29,
   "metadata": {},
   "outputs": [
    {
     "name": "stdout",
     "output_type": "stream",
     "text": [
      "[[0.         0.         0.         ... 0.         0.         0.        ]\n",
      " [0.         0.         0.         ... 0.         0.         0.        ]\n",
      " [0.00728687 0.         0.         ... 0.         0.         0.        ]\n",
      " ...\n",
      " [0.         0.         0.         ... 0.         0.         0.        ]\n",
      " [0.         0.         0.         ... 0.         0.         0.        ]\n",
      " [0.0249377  0.         0.         ... 0.         0.         0.        ]]\n",
      "['T', '__abs__', '__add__', '__and__', '__array__', '__array_finalize__', '__array_function__', '__array_interface__', '__array_prepare__', '__array_priority__', '__array_struct__', '__array_ufunc__', '__array_wrap__', '__bool__', '__class__', '__complex__', '__contains__', '__copy__', '__deepcopy__', '__delattr__', '__delitem__', '__dir__', '__divmod__', '__doc__', '__eq__', '__float__', '__floordiv__', '__format__', '__ge__', '__getattribute__', '__getitem__', '__gt__', '__hash__', '__iadd__', '__iand__', '__ifloordiv__', '__ilshift__', '__imatmul__', '__imod__', '__imul__', '__index__', '__init__', '__init_subclass__', '__int__', '__invert__', '__ior__', '__ipow__', '__irshift__', '__isub__', '__iter__', '__itruediv__', '__ixor__', '__le__', '__len__', '__lshift__', '__lt__', '__matmul__', '__mod__', '__mul__', '__ne__', '__neg__', '__new__', '__or__', '__pos__', '__pow__', '__radd__', '__rand__', '__rdivmod__', '__reduce__', '__reduce_ex__', '__repr__', '__rfloordiv__', '__rlshift__', '__rmatmul__', '__rmod__', '__rmul__', '__ror__', '__rpow__', '__rrshift__', '__rshift__', '__rsub__', '__rtruediv__', '__rxor__', '__setattr__', '__setitem__', '__setstate__', '__sizeof__', '__str__', '__sub__', '__subclasshook__', '__truediv__', '__xor__', 'all', 'any', 'argmax', 'argmin', 'argpartition', 'argsort', 'astype', 'base', 'byteswap', 'choose', 'clip', 'compress', 'conj', 'conjugate', 'copy', 'ctypes', 'cumprod', 'cumsum', 'data', 'diagonal', 'dot', 'dtype', 'dump', 'dumps', 'fill', 'flags', 'flat', 'flatten', 'getfield', 'imag', 'item', 'itemset', 'itemsize', 'max', 'mean', 'min', 'nbytes', 'ndim', 'newbyteorder', 'nonzero', 'partition', 'prod', 'ptp', 'put', 'ravel', 'real', 'repeat', 'reshape', 'resize', 'round', 'searchsorted', 'setfield', 'setflags', 'shape', 'size', 'sort', 'squeeze', 'std', 'strides', 'sum', 'swapaxes', 'take', 'tobytes', 'tofile', 'tolist', 'tostring', 'trace', 'transpose', 'var', 'view']\n"
     ]
    }
   ],
   "source": [
    "tfidf_counter = TfidfVectorizer(analyzer=\"word\", stop_words=stopwords.words(\"english\"))\n",
    "docs = []\n",
    "for i in results:\n",
    "    for key in i.keys():\n",
    "        if key == \"text\":\n",
    "            docs.append(i[key])\n",
    "\n",
    "tfidf_results = tfidf_counter.fit_transform(docs).toarray()\n",
    "print(tfidf_results)\n",
    "print(dir(tfidf_counter))"
   ]
  },
  {
   "cell_type": "code",
   "execution_count": 4,
   "metadata": {},
   "outputs": [],
   "source": [
    "# Find what TF-IDF words for each Subject"
   ]
  },
  {
   "cell_type": "code",
   "execution_count": null,
   "metadata": {},
   "outputs": [],
   "source": [
    "# Create Ideal Document"
   ]
  }
 ],
 "metadata": {
  "kernelspec": {
   "display_name": "Python 3",
   "language": "python",
   "name": "python3"
  },
  "language_info": {
   "codemirror_mode": {
    "name": "ipython",
    "version": 3
   },
   "file_extension": ".py",
   "mimetype": "text/x-python",
   "name": "python",
   "nbconvert_exporter": "python",
   "pygments_lexer": "ipython3",
   "version": "3.7.3"
  }
 },
 "nbformat": 4,
 "nbformat_minor": 2
}
